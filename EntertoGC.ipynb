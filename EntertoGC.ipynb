{
  "nbformat": 4,
  "nbformat_minor": 0,
  "metadata": {
    "colab": {
      "provenance": [],
      "collapsed_sections": [],
      "include_colab_link": true
    },
    "kernelspec": {
      "name": "python3",
      "display_name": "Python 3"
    },
    "language_info": {
      "name": "python"
    },
    "accelerator": "GPU"
  },
  "cells": [
    {
      "cell_type": "markdown",
      "metadata": {
        "id": "view-in-github",
        "colab_type": "text"
      },
      "source": [
        "<a href=\"https://colab.research.google.com/github/JamshidSalimov/Movie-app/blob/master/EntertoGC.ipynb\" target=\"_parent\"><img src=\"https://colab.research.google.com/assets/colab-badge.svg\" alt=\"Open In Colab\"/></a>"
      ]
    },
    {
      "cell_type": "code",
      "execution_count": null,
      "metadata": {
        "colab": {
          "base_uri": "https://localhost:8080/"
        },
        "id": "ibRfoVpp6CUJ",
        "outputId": "e8988473-4818-4910-da50-5c44546f965c"
      },
      "outputs": [
        {
          "output_type": "stream",
          "name": "stdout",
          "text": [
            "salom\n"
          ]
        }
      ],
      "source": [
        "print(\"salom\") # shu yergacha ishlagan bo'lsa demak sizni tabriklayman sizda google colab ishlayabdi"
      ]
    },
    {
      "cell_type": "markdown",
      "source": [
        "# Heading\n",
        "* [kirish](https://olcha.uz)\n",
        "* muqaddima\n"
      ],
      "metadata": {
        "id": "3-A1ZORgFvMO"
      }
    },
    {
      "cell_type": "markdown",
      "source": [
        "Bundan tashqari google colab da biz uchun kerakli kutubxonalar o'rnatilgan holatda buladi"
      ],
      "metadata": {
        "id": "I2QGHMWdGKNp"
      }
    },
    {
      "cell_type": "code",
      "source": [
        "import numpy as np\n",
        "import pandas as pd \n",
        "import sklearn # Machine lorning uchun\n",
        "import matplotlib.pyplot as plt #vezualizatsiya uchun ishlatiladi matplotlib yoki seaborn kutubxonalari\n",
        "import seaborn as sns\n",
        "import torch      # Deep learning uchun ishlatiladigan torch va tansorflow  kutubxonalari\n",
        "import tensorflow as tf \n",
        "# keling biz bu sellni yuritib ko'ramiz "
      ],
      "metadata": {
        "id": "ioQJgQzl8Ev8"
      },
      "execution_count": null,
      "outputs": []
    },
    {
      "cell_type": "markdown",
      "source": [
        "Bu kutubxonalarni versiyasini ham bilishimiz mumkun va u quydagicha amalga oshiriladi."
      ],
      "metadata": {
        "id": "SC-fbsxmIEQ0"
      }
    },
    {
      "cell_type": "code",
      "source": [
        "tf. __version__ "
      ],
      "metadata": {
        "colab": {
          "base_uri": "https://localhost:8080/",
          "height": 35
        },
        "id": "UbEsMXaW9dZr",
        "outputId": "77e0e327-2e8d-490e-e6b8-363af972785a"
      },
      "execution_count": null,
      "outputs": [
        {
          "output_type": "execute_result",
          "data": {
            "text/plain": [
              "'2.8.2'"
            ],
            "application/vnd.google.colaboratory.intrinsic+json": {
              "type": "string"
            }
          },
          "metadata": {},
          "execution_count": 9
        }
      ]
    },
    {
      "cell_type": "markdown",
      "source": [
        "Google Colab ning yana bir qulayligi GPU grafik kartadan foydalanishingiz mumkun keling google colabga GPU ni qushishni ko'rib chiqamiz"
      ],
      "metadata": {
        "id": "bkvcrze8Ie9b"
      }
    },
    {
      "cell_type": "code",
      "source": [
        "import torch"
      ],
      "metadata": {
        "id": "mT3avUMN-8Gk"
      },
      "execution_count": null,
      "outputs": []
    },
    {
      "cell_type": "code",
      "source": [
        "torch.cuda.is_available() # GPU ni shlayotganini tekshirish uchun shu kodni yozamiz va bu True qiymat qabul qilsa GPU ishlayotganini bildiradi."
      ],
      "metadata": {
        "colab": {
          "base_uri": "https://localhost:8080/"
        },
        "id": "IxsRbbV2-b33",
        "outputId": "3243dbde-e02b-43f1-ebf1-38ee13b5d35c"
      },
      "execution_count": null,
      "outputs": [
        {
          "output_type": "execute_result",
          "data": {
            "text/plain": [
              "True"
            ]
          },
          "metadata": {},
          "execution_count": 10
        }
      ]
    },
    {
      "cell_type": "markdown",
      "source": [
        "google colabda fayllarni nazorat qilish bunda fayillarni yuklash, fayillarni joylash, fayillarni chaqirib olish va h.klar bilan ishlaymiz\n"
      ],
      "metadata": {
        "id": "lPmL0ieHJvr0"
      }
    },
    {
      "cell_type": "code",
      "source": [
        "!ls # bu orqali biz hozir qaysi deriktoryda ekanimizni bilishimiz mumkun."
      ],
      "metadata": {
        "colab": {
          "base_uri": "https://localhost:8080/"
        },
        "id": "jO38SQ3l-zt3",
        "outputId": "d6ecbad6-817e-4bef-e276-ed0fe88678f6"
      },
      "execution_count": null,
      "outputs": [
        {
          "output_type": "stream",
          "name": "stdout",
          "text": [
            "sample_data\n"
          ]
        }
      ]
    },
    {
      "cell_type": "markdown",
      "source": [
        "Keling biz data1 degan papka yaratib uning ichiga qurilmamizdan biror file yuklaymiz va bu fayldan qanday foydalanishni ko'rib utamiz"
      ],
      "metadata": {
        "id": "RqYKl31nLQpp"
      }
    },
    {
      "cell_type": "code",
      "source": [
        "import pandas as pd\n",
        "files=pd.read_excel('./data1/Book1.xlsx') # pandasda maxsus Excel o'qiydigan metod mavjud"
      ],
      "metadata": {
        "id": "eRFU45sXLqbu"
      },
      "execution_count": null,
      "outputs": []
    },
    {
      "cell_type": "code",
      "source": [
        "files"
      ],
      "metadata": {
        "colab": {
          "base_uri": "https://localhost:8080/",
          "height": 551
        },
        "id": "ZkInjdFxMRUw",
        "outputId": "84a754e2-9e1b-4abb-87ca-6dc5a471af0b"
      },
      "execution_count": null,
      "outputs": [
        {
          "output_type": "execute_result",
          "data": {
            "text/plain": [
              "    NO            AUTHOR                       TITLE OF THE BOOKS  QUANTITY  \\\n",
              "0    1  STEPHEN R. COVEY  The 7 habits of highly effective people      10.0   \n",
              "1    2         DAN BROWN                         DIGITAL FORTRESS       1.0   \n",
              "2    3               NaN                          DECEPTION POINT       1.0   \n",
              "3    4               NaN                        ANGELS AND DEMONS       1.0   \n",
              "4    5               NaN                                  INFERNO       1.0   \n",
              "5    6               NaN                              LOST SYMBOL       1.0   \n",
              "6    7               NaN                            DA VINCI CODE       1.0   \n",
              "7    8               NaN                                      NaN       NaN   \n",
              "8    9               NaN                                      NaN       NaN   \n",
              "9   10               NaN                                      NaN       NaN   \n",
              "10  11               NaN                                      NaN       NaN   \n",
              "11  12               NaN                                      NaN       NaN   \n",
              "12  13               NaN                                      NaN       NaN   \n",
              "13  14               NaN                                      NaN       NaN   \n",
              "14  15               NaN                                      NaN       NaN   \n",
              "15  16               NaN                                      NaN       NaN   \n",
              "\n",
              "   PRICE  \n",
              "0   17 $  \n",
              "1    9 $  \n",
              "2    9 $  \n",
              "3   29 $  \n",
              "4   29 $  \n",
              "5   29 $  \n",
              "6    29$  \n",
              "7    NaN  \n",
              "8    NaN  \n",
              "9    NaN  \n",
              "10   NaN  \n",
              "11   NaN  \n",
              "12   NaN  \n",
              "13   NaN  \n",
              "14   NaN  \n",
              "15   NaN  "
            ],
            "text/html": [
              "\n",
              "  <div id=\"df-88f9ca67-fc02-492a-9525-d66597d7e924\">\n",
              "    <div class=\"colab-df-container\">\n",
              "      <div>\n",
              "<style scoped>\n",
              "    .dataframe tbody tr th:only-of-type {\n",
              "        vertical-align: middle;\n",
              "    }\n",
              "\n",
              "    .dataframe tbody tr th {\n",
              "        vertical-align: top;\n",
              "    }\n",
              "\n",
              "    .dataframe thead th {\n",
              "        text-align: right;\n",
              "    }\n",
              "</style>\n",
              "<table border=\"1\" class=\"dataframe\">\n",
              "  <thead>\n",
              "    <tr style=\"text-align: right;\">\n",
              "      <th></th>\n",
              "      <th>NO</th>\n",
              "      <th>AUTHOR</th>\n",
              "      <th>TITLE OF THE BOOKS</th>\n",
              "      <th>QUANTITY</th>\n",
              "      <th>PRICE</th>\n",
              "    </tr>\n",
              "  </thead>\n",
              "  <tbody>\n",
              "    <tr>\n",
              "      <th>0</th>\n",
              "      <td>1</td>\n",
              "      <td>STEPHEN R. COVEY</td>\n",
              "      <td>The 7 habits of highly effective people</td>\n",
              "      <td>10.0</td>\n",
              "      <td>17 $</td>\n",
              "    </tr>\n",
              "    <tr>\n",
              "      <th>1</th>\n",
              "      <td>2</td>\n",
              "      <td>DAN BROWN</td>\n",
              "      <td>DIGITAL FORTRESS</td>\n",
              "      <td>1.0</td>\n",
              "      <td>9 $</td>\n",
              "    </tr>\n",
              "    <tr>\n",
              "      <th>2</th>\n",
              "      <td>3</td>\n",
              "      <td>NaN</td>\n",
              "      <td>DECEPTION POINT</td>\n",
              "      <td>1.0</td>\n",
              "      <td>9 $</td>\n",
              "    </tr>\n",
              "    <tr>\n",
              "      <th>3</th>\n",
              "      <td>4</td>\n",
              "      <td>NaN</td>\n",
              "      <td>ANGELS AND DEMONS</td>\n",
              "      <td>1.0</td>\n",
              "      <td>29 $</td>\n",
              "    </tr>\n",
              "    <tr>\n",
              "      <th>4</th>\n",
              "      <td>5</td>\n",
              "      <td>NaN</td>\n",
              "      <td>INFERNO</td>\n",
              "      <td>1.0</td>\n",
              "      <td>29 $</td>\n",
              "    </tr>\n",
              "    <tr>\n",
              "      <th>5</th>\n",
              "      <td>6</td>\n",
              "      <td>NaN</td>\n",
              "      <td>LOST SYMBOL</td>\n",
              "      <td>1.0</td>\n",
              "      <td>29 $</td>\n",
              "    </tr>\n",
              "    <tr>\n",
              "      <th>6</th>\n",
              "      <td>7</td>\n",
              "      <td>NaN</td>\n",
              "      <td>DA VINCI CODE</td>\n",
              "      <td>1.0</td>\n",
              "      <td>29$</td>\n",
              "    </tr>\n",
              "    <tr>\n",
              "      <th>7</th>\n",
              "      <td>8</td>\n",
              "      <td>NaN</td>\n",
              "      <td>NaN</td>\n",
              "      <td>NaN</td>\n",
              "      <td>NaN</td>\n",
              "    </tr>\n",
              "    <tr>\n",
              "      <th>8</th>\n",
              "      <td>9</td>\n",
              "      <td>NaN</td>\n",
              "      <td>NaN</td>\n",
              "      <td>NaN</td>\n",
              "      <td>NaN</td>\n",
              "    </tr>\n",
              "    <tr>\n",
              "      <th>9</th>\n",
              "      <td>10</td>\n",
              "      <td>NaN</td>\n",
              "      <td>NaN</td>\n",
              "      <td>NaN</td>\n",
              "      <td>NaN</td>\n",
              "    </tr>\n",
              "    <tr>\n",
              "      <th>10</th>\n",
              "      <td>11</td>\n",
              "      <td>NaN</td>\n",
              "      <td>NaN</td>\n",
              "      <td>NaN</td>\n",
              "      <td>NaN</td>\n",
              "    </tr>\n",
              "    <tr>\n",
              "      <th>11</th>\n",
              "      <td>12</td>\n",
              "      <td>NaN</td>\n",
              "      <td>NaN</td>\n",
              "      <td>NaN</td>\n",
              "      <td>NaN</td>\n",
              "    </tr>\n",
              "    <tr>\n",
              "      <th>12</th>\n",
              "      <td>13</td>\n",
              "      <td>NaN</td>\n",
              "      <td>NaN</td>\n",
              "      <td>NaN</td>\n",
              "      <td>NaN</td>\n",
              "    </tr>\n",
              "    <tr>\n",
              "      <th>13</th>\n",
              "      <td>14</td>\n",
              "      <td>NaN</td>\n",
              "      <td>NaN</td>\n",
              "      <td>NaN</td>\n",
              "      <td>NaN</td>\n",
              "    </tr>\n",
              "    <tr>\n",
              "      <th>14</th>\n",
              "      <td>15</td>\n",
              "      <td>NaN</td>\n",
              "      <td>NaN</td>\n",
              "      <td>NaN</td>\n",
              "      <td>NaN</td>\n",
              "    </tr>\n",
              "    <tr>\n",
              "      <th>15</th>\n",
              "      <td>16</td>\n",
              "      <td>NaN</td>\n",
              "      <td>NaN</td>\n",
              "      <td>NaN</td>\n",
              "      <td>NaN</td>\n",
              "    </tr>\n",
              "  </tbody>\n",
              "</table>\n",
              "</div>\n",
              "      <button class=\"colab-df-convert\" onclick=\"convertToInteractive('df-88f9ca67-fc02-492a-9525-d66597d7e924')\"\n",
              "              title=\"Convert this dataframe to an interactive table.\"\n",
              "              style=\"display:none;\">\n",
              "        \n",
              "  <svg xmlns=\"http://www.w3.org/2000/svg\" height=\"24px\"viewBox=\"0 0 24 24\"\n",
              "       width=\"24px\">\n",
              "    <path d=\"M0 0h24v24H0V0z\" fill=\"none\"/>\n",
              "    <path d=\"M18.56 5.44l.94 2.06.94-2.06 2.06-.94-2.06-.94-.94-2.06-.94 2.06-2.06.94zm-11 1L8.5 8.5l.94-2.06 2.06-.94-2.06-.94L8.5 2.5l-.94 2.06-2.06.94zm10 10l.94 2.06.94-2.06 2.06-.94-2.06-.94-.94-2.06-.94 2.06-2.06.94z\"/><path d=\"M17.41 7.96l-1.37-1.37c-.4-.4-.92-.59-1.43-.59-.52 0-1.04.2-1.43.59L10.3 9.45l-7.72 7.72c-.78.78-.78 2.05 0 2.83L4 21.41c.39.39.9.59 1.41.59.51 0 1.02-.2 1.41-.59l7.78-7.78 2.81-2.81c.8-.78.8-2.07 0-2.86zM5.41 20L4 18.59l7.72-7.72 1.47 1.35L5.41 20z\"/>\n",
              "  </svg>\n",
              "      </button>\n",
              "      \n",
              "  <style>\n",
              "    .colab-df-container {\n",
              "      display:flex;\n",
              "      flex-wrap:wrap;\n",
              "      gap: 12px;\n",
              "    }\n",
              "\n",
              "    .colab-df-convert {\n",
              "      background-color: #E8F0FE;\n",
              "      border: none;\n",
              "      border-radius: 50%;\n",
              "      cursor: pointer;\n",
              "      display: none;\n",
              "      fill: #1967D2;\n",
              "      height: 32px;\n",
              "      padding: 0 0 0 0;\n",
              "      width: 32px;\n",
              "    }\n",
              "\n",
              "    .colab-df-convert:hover {\n",
              "      background-color: #E2EBFA;\n",
              "      box-shadow: 0px 1px 2px rgba(60, 64, 67, 0.3), 0px 1px 3px 1px rgba(60, 64, 67, 0.15);\n",
              "      fill: #174EA6;\n",
              "    }\n",
              "\n",
              "    [theme=dark] .colab-df-convert {\n",
              "      background-color: #3B4455;\n",
              "      fill: #D2E3FC;\n",
              "    }\n",
              "\n",
              "    [theme=dark] .colab-df-convert:hover {\n",
              "      background-color: #434B5C;\n",
              "      box-shadow: 0px 1px 3px 1px rgba(0, 0, 0, 0.15);\n",
              "      filter: drop-shadow(0px 1px 2px rgba(0, 0, 0, 0.3));\n",
              "      fill: #FFFFFF;\n",
              "    }\n",
              "  </style>\n",
              "\n",
              "      <script>\n",
              "        const buttonEl =\n",
              "          document.querySelector('#df-88f9ca67-fc02-492a-9525-d66597d7e924 button.colab-df-convert');\n",
              "        buttonEl.style.display =\n",
              "          google.colab.kernel.accessAllowed ? 'block' : 'none';\n",
              "\n",
              "        async function convertToInteractive(key) {\n",
              "          const element = document.querySelector('#df-88f9ca67-fc02-492a-9525-d66597d7e924');\n",
              "          const dataTable =\n",
              "            await google.colab.kernel.invokeFunction('convertToInteractive',\n",
              "                                                     [key], {});\n",
              "          if (!dataTable) return;\n",
              "\n",
              "          const docLinkHtml = 'Like what you see? Visit the ' +\n",
              "            '<a target=\"_blank\" href=https://colab.research.google.com/notebooks/data_table.ipynb>data table notebook</a>'\n",
              "            + ' to learn more about interactive tables.';\n",
              "          element.innerHTML = '';\n",
              "          dataTable['output_type'] = 'display_data';\n",
              "          await google.colab.output.renderOutput(dataTable, element);\n",
              "          const docLink = document.createElement('div');\n",
              "          docLink.innerHTML = docLinkHtml;\n",
              "          element.appendChild(docLink);\n",
              "        }\n",
              "      </script>\n",
              "    </div>\n",
              "  </div>\n",
              "  "
            ]
          },
          "metadata": {},
          "execution_count": 14
        }
      ]
    },
    {
      "cell_type": "markdown",
      "source": [
        "bundan tashqari fileni ustiga bosib usha filni yuklab olishimiz ham mumkun"
      ],
      "metadata": {
        "id": "yOJqsKqRMkPQ"
      }
    },
    {
      "cell_type": "markdown",
      "source": [
        "Git Hub dan i.python ko'rinishidagi notebooklarni google colabga yuklab olishni ko'rib chiqamiz"
      ],
      "metadata": {
        "id": "4fSvCxRrM_6Y"
      }
    },
    {
      "cell_type": "code",
      "source": [],
      "metadata": {
        "id": "TJD9JBEDNZ4o"
      },
      "execution_count": null,
      "outputs": []
    }
  ]
}